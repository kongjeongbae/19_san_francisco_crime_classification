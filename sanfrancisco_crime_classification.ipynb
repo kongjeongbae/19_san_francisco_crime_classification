{
 "cells": [
  {
   "cell_type": "code",
   "execution_count": null,
   "metadata": {},
   "outputs": [],
   "source": [
    "import os\n",
    "import pandas as pd\n",
    "\n",
    "pd.options.display.max_columns = 100\n",
    "\n",
    "os.listdir('inputs')"
   ]
  },
  {
   "cell_type": "code",
   "execution_count": null,
   "metadata": {},
   "outputs": [],
   "source": [
    "train = pd.read_csv('inputs/train.csv')\n",
    "test = pd.read_csv('inputs/test.csv')\n",
    "sub = pd.read_csv('inputs/sampleSubmission.csv')"
   ]
  },
  {
   "cell_type": "code",
   "execution_count": null,
   "metadata": {},
   "outputs": [],
   "source": [
    "test.head()"
   ]
  },
  {
   "cell_type": "code",
   "execution_count": null,
   "metadata": {
    "scrolled": true
   },
   "outputs": [],
   "source": [
    "train.head()"
   ]
  },
  {
   "cell_type": "code",
   "execution_count": null,
   "metadata": {
    "scrolled": true
   },
   "outputs": [],
   "source": [
    "train['Category'].value_counts()"
   ]
  },
  {
   "cell_type": "code",
   "execution_count": null,
   "metadata": {},
   "outputs": [],
   "source": [
    "all_df = pd.concat([train, test])"
   ]
  },
  {
   "cell_type": "code",
   "execution_count": null,
   "metadata": {},
   "outputs": [],
   "source": [
    "all_df['year'] = all_df['Dates'].astype('datetime64').dt.year\n",
    "all_df['month'] = all_df['Dates'].astype('datetime64').dt.month\n",
    "all_df['day'] = all_df['Dates'].astype('datetime64').dt.day\n",
    "\n",
    "all_df['hour'] = all_df['Dates'].astype('datetime64').dt.hour\n",
    "all_df['minute'] = all_df['Dates'].astype('datetime64').dt.minute\n",
    "all_df['all_minute'] = all_df['hour'] * 60 + all_df['minute']\n",
    "\n"
   ]
  },
  {
   "cell_type": "code",
   "execution_count": null,
   "metadata": {},
   "outputs": [],
   "source": [
    "left_top_X = all_df['X'].min()\n",
    "right_top_X = all_df['X'].max()\n",
    "left_bottom_X = all_df['X'].min()\n",
    "right_bottom_X = all_df['X'].max()\n",
    "\n",
    "left_top_Y = all_df['Y'].max()\n",
    "right_top_Y = all_df['Y'].max()\n",
    "left_bottom_Y = all_df['Y'].min()\n",
    "right_bottom_Y = all_df['Y'].min()"
   ]
  },
  {
   "cell_type": "code",
   "execution_count": null,
   "metadata": {},
   "outputs": [],
   "source": [
    "all_df['distance_1'] = (((all_df['X'] - right_top_X) ** 2 )+ ((all_df['Y'] - right_top_Y) ** 2))**0.5 # right_top 1사분면\n",
    "all_df['distance_2'] = (((all_df['X'] - left_top_X) ** 2 )+ ((all_df['Y'] - left_top_Y) ** 2))**0.5 # left_top 2사분면\n",
    "all_df['distance_3'] = (((all_df['X'] - left_bottom_X) ** 2 )+ ((all_df['Y'] - left_bottom_Y) ** 2))**0.5 # left_bottom\n",
    "all_df['distance_4'] = (((all_df['X'] - right_bottom_X) ** 2 )+ ((all_df['Y'] - right_bottom_Y) ** 2))**0.5 # right_bottom"
   ]
  },
  {
   "cell_type": "code",
   "execution_count": null,
   "metadata": {},
   "outputs": [],
   "source": []
  },
  {
   "cell_type": "code",
   "execution_count": null,
   "metadata": {},
   "outputs": [],
   "source": [
    "import matplotlib.pyplot as plt\n",
    "import seaborn as sns\n",
    "\n",
    "plt.figure(figsize=(10,6))\n",
    "sns.distplot(all_df.all_minute)"
   ]
  },
  {
   "cell_type": "code",
   "execution_count": null,
   "metadata": {},
   "outputs": [],
   "source": [
    "import matplotlib.pyplot as plt\n",
    "import seaborn as sns\n",
    "\n",
    "plt.figure(figsize=(10,6))\n",
    "sns.distplot(all_df[len(train):].all_minute)"
   ]
  },
  {
   "cell_type": "code",
   "execution_count": null,
   "metadata": {},
   "outputs": [],
   "source": [
    "all_df.head()"
   ]
  },
  {
   "cell_type": "code",
   "execution_count": null,
   "metadata": {
    "scrolled": false
   },
   "outputs": [],
   "source": [
    "all_df.tail()"
   ]
  },
  {
   "cell_type": "code",
   "execution_count": null,
   "metadata": {},
   "outputs": [],
   "source": [
    "from sklearn.preprocessing import LabelEncoder\n",
    "\n",
    "le = LabelEncoder()\n",
    "le.fit_transform(list(all_df['Category']))"
   ]
  },
  {
   "cell_type": "code",
   "execution_count": null,
   "metadata": {},
   "outputs": [],
   "source": [
    "le_classes = le.classes_"
   ]
  },
  {
   "cell_type": "code",
   "execution_count": null,
   "metadata": {},
   "outputs": [],
   "source": [
    "all_df.dtypes"
   ]
  },
  {
   "cell_type": "code",
   "execution_count": null,
   "metadata": {},
   "outputs": [],
   "source": [
    "for i in all_df.columns[all_df.dtypes == 'object']:\n",
    "    if i == 'Category' or i == 'Dates' or i == 'Descript' or i == 'Resolution':\n",
    "        continue # object 형 컬럼 중 라벨인코딩에 필요없는건 넘겨줄 것.(나중에 모델에 들어가기 전에 빼주면 됨.(drop(['date', 'id'], axis=1)). 원본을 남길 필요가 있는 경우 이처럼 continue 시켜줌)\n",
    "    all_df[i] = le.fit_transform(list(all_df[i])) # list로 감싸주면 na값이 문자 'NaN'로 처리되서 오류 안 뜸."
   ]
  },
  {
   "cell_type": "code",
   "execution_count": null,
   "metadata": {},
   "outputs": [],
   "source": [
    "all_df.dtypes"
   ]
  },
  {
   "cell_type": "code",
   "execution_count": null,
   "metadata": {},
   "outputs": [],
   "source": [
    "all_df = all_df.drop(['Dates', 'Category', 'Descript', 'Resolution', 'Id', 'Address'], axis = 1)\n",
    "\n",
    "train2 = all_df[:len(train)]\n",
    "test2 = all_df[len(train):]"
   ]
  },
  {
   "cell_type": "code",
   "execution_count": null,
   "metadata": {},
   "outputs": [],
   "source": [
    "from sklearn.model_selection import train_test_split\n",
    "\n",
    "x_train, x_valid, y_train, y_valid = train_test_split(train2, train['Category'], test_size = 0.2, random_state = 33, stratify=train['Category'])"
   ]
  },
  {
   "cell_type": "code",
   "execution_count": null,
   "metadata": {},
   "outputs": [],
   "source": [
    "train2"
   ]
  },
  {
   "cell_type": "code",
   "execution_count": null,
   "metadata": {},
   "outputs": [],
   "source": [
    "test2"
   ]
  },
  {
   "cell_type": "code",
   "execution_count": null,
   "metadata": {
    "scrolled": true
   },
   "outputs": [],
   "source": [
    "# from sklearn.ensemble import RandomForestClassifier\n",
    "\n",
    "# rf = RandomForestClassifier()\n",
    "# rf.fit(train2, train['Category'])\n",
    "# result = rf.predict_proba(test2)"
   ]
  },
  {
   "cell_type": "code",
   "execution_count": null,
   "metadata": {
    "scrolled": true
   },
   "outputs": [],
   "source": [
    "from lightgbm import LGBMClassifier\n",
    "\n",
    "lgb = LGBMClassifier(n_estimators = 100, learning_rate = 0.01, num_leaves = 64)\n",
    "lgb.fit(x_train, y_train, eval_set = (x_valid, y_valid), verbose_eval=20)\n",
    "result1 = lgb.predict_proba(test2)"
   ]
  },
  {
   "cell_type": "code",
   "execution_count": null,
   "metadata": {},
   "outputs": [],
   "source": [
    "from catboost import CatBoostClassifier\n",
    "\n",
    "cb = CatBoostClassifier(n_estimators = 1000, learning_rate = 0.05)\n",
    "cb.fit(x_train, y_train, eval_set = (x_valid, y_valid), verbose_eval=20)\n",
    "result2 = cb.predict_proba(test2)"
   ]
  },
  {
   "cell_type": "code",
   "execution_count": null,
   "metadata": {},
   "outputs": [],
   "source": []
  },
  {
   "cell_type": "code",
   "execution_count": null,
   "metadata": {},
   "outputs": [],
   "source": [
    "sub.iloc[:, 1:] = 0.5*result1 + 0.5*result2"
   ]
  },
  {
   "cell_type": "code",
   "execution_count": null,
   "metadata": {},
   "outputs": [],
   "source": [
    "sub.head()"
   ]
  },
  {
   "cell_type": "code",
   "execution_count": null,
   "metadata": {},
   "outputs": [],
   "source": [
    "sub.to_csv('submissions/sub.csv', index=False)"
   ]
  },
  {
   "cell_type": "markdown",
   "metadata": {},
   "source": [
    "https://www.kaggle.com/c/sf-crime/submit"
   ]
  },
  {
   "cell_type": "markdown",
   "metadata": {},
   "source": [
    "- 베이스라인(아무 처리 안함, result 값만 도출되게끔 했을때): 3.87207\n",
    "- validation 나눠서 2.54469 lgb val score는 2.50426\n",
    "- learning_rate: 0.05로 낮췄더니 2.40392 lgb val score는 2.50078 이번엔 오히려 lb 점수가 더 좋음. 모델 예측 점수와 너무 다름\n",
    "- catboost로 했더니 2.32982 val은 2.3231609 거의 비슷함\n",
    "- lgb랑 catboost랑 앙상블 했더니 점수 더 떨어짐 - 2.37649\n"
   ]
  },
  {
   "cell_type": "code",
   "execution_count": null,
   "metadata": {},
   "outputs": [],
   "source": []
  }
 ],
 "metadata": {
  "kernelspec": {
   "display_name": "Python 3",
   "language": "python",
   "name": "python3"
  },
  "language_info": {
   "codemirror_mode": {
    "name": "ipython",
    "version": 3
   },
   "file_extension": ".py",
   "mimetype": "text/x-python",
   "name": "python",
   "nbconvert_exporter": "python",
   "pygments_lexer": "ipython3",
   "version": "3.6.8"
  },
  "toc": {
   "base_numbering": 1,
   "nav_menu": {},
   "number_sections": true,
   "sideBar": true,
   "skip_h1_title": false,
   "title_cell": "Table of Contents",
   "title_sidebar": "Contents",
   "toc_cell": false,
   "toc_position": {},
   "toc_section_display": true,
   "toc_window_display": false
  }
 },
 "nbformat": 4,
 "nbformat_minor": 4
}
